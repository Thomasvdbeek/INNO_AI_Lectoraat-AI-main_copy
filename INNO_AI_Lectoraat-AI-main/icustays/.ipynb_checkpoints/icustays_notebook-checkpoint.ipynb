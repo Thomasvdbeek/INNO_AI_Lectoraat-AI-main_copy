{
 "cells": [
  {
   "cell_type": "markdown",
   "id": "55b8de8d",
   "metadata": {},
   "source": [
    "## Length of stay in the ICU (Baseline) \n",
    "This document shows how Jupyter Notebooks can be used to create a reproducible analysis using MIMIC-III. Let's calculate the median length of stay in the ICU and then include this value in our Notebook."
   ]
  },
  {
   "cell_type": "code",
   "execution_count": 7,
   "id": "3440c274",
   "metadata": {},
   "outputs": [],
   "source": [
    "# Import libraries\n",
    "import numpy as np\n",
    "import pandas as pd\n",
    "import seaborn as sns"
   ]
  },
  {
   "cell_type": "code",
   "execution_count": 2,
   "id": "2f1a7636",
   "metadata": {},
   "outputs": [],
   "source": [
    "data = pd.read_csv(\"ICUSTAYS.csv\") \n",
    "df = pd.DataFrame(data)"
   ]
  },
  {
   "cell_type": "code",
   "execution_count": 3,
   "id": "ce1cd1b3",
   "metadata": {},
   "outputs": [
    {
     "data": {
      "text/plain": [
       "Index(['ROW_ID', 'SUBJECT_ID', 'HADM_ID', 'ICUSTAY_ID', 'DBSOURCE',\n",
       "       'FIRST_CAREUNIT', 'LAST_CAREUNIT', 'FIRST_WARDID', 'LAST_WARDID',\n",
       "       'INTIME', 'OUTTIME', 'LOS'],\n",
       "      dtype='object')"
      ]
     },
     "execution_count": 3,
     "metadata": {},
     "output_type": "execute_result"
    }
   ],
   "source": [
    "df.columns"
   ]
  },
  {
   "cell_type": "markdown",
   "id": "dea73d14",
   "metadata": {},
   "source": [
    "The icustays table is part of a hospital database and contains information about individual ICU stays. Each row in the table represents a single ICU stay, and the table has 61,532 rows. The table includes the following columns:\n",
    "\n",
    "ROW_ID: a unique identifier for each row in the table\n",
    "\n",
    "\n",
    "SUBJECT_ID: a unique identifier for each patient\n",
    "\n",
    "\n",
    "HADM_ID: a unique identifier for each hospital stay\n",
    "\n",
    "\n",
    "ICUSTAY_ID: a unique identifier for each ICU stay\n",
    "\n",
    "\n",
    "DBSOURCE: indicates whether the data for the ICU stay was sourced from the CareVue or Metavision system\n",
    "\n",
    "\n",
    "FIRST_CAREUNIT: the first ICU unit where the patient received care during the ICU stay\n",
    "\n",
    "\n",
    "LAST_CAREUNIT: the last ICU unit where the patient received care during the ICU stay\n",
    "\n",
    "\n",
    "FIRST_WARDID: the first physical ICU unit where the patient stayed during the ICU stay\n",
    "\n",
    "\n",
    "LAST_WARDID: the last physical ICU unit where the patient stayed during the ICU stay\n",
    "\n",
    "\n",
    "INTIME: the date and time the patient was transferred into the ICU\n",
    "\n",
    "\n",
    "OUTTIME: the date and time the patient was transferred out of the ICU\n",
    "\n",
    "\n",
    "LOS: the length of stay for the patient in the ICU, measured in fractional days.\n",
    "\n",
    "The icustays table is derived from the transfers table, which tracks patient movements between different hospital units. The icustays table groups these transfers by ICUSTAY_ID and excludes rows where no ICUSTAY_ID is present. The table is linked to the patients table on SUBJECT_ID and the admissions table on HADM_ID. Understanding the different columns in the icustays table is important for analyzing patient data and tracking ICU stays.is measured in fractional days."
   ]
  },
  {
   "cell_type": "code",
   "execution_count": 4,
   "id": "3efb1a4e",
   "metadata": {},
   "outputs": [
    {
     "data": {
      "text/plain": [
       "2.09225"
      ]
     },
     "execution_count": 4,
     "metadata": {},
     "output_type": "execute_result"
    }
   ],
   "source": [
    "# Compute the median LOS\n",
    "avg_los = df.LOS.median()\n",
    "avg_los"
   ]
  },
  {
   "cell_type": "code",
   "execution_count": 17,
   "id": "d22d1dcd",
   "metadata": {},
   "outputs": [
    {
     "data": {
      "text/plain": [
       "<AxesSubplot:xlabel='LOS', ylabel='Density'>"
      ]
     },
     "execution_count": 17,
     "metadata": {},
     "output_type": "execute_result"
    },
    {
     "data": {
      "image/png": "[encoded data removed]",
      "text/plain": [
       "<Figure size 432x288 with 1 Axes>"
      ]
     },
     "metadata": {},
     "output_type": "display_data"
    }
   ],
   "source": [
    "# Plot the distribution\n",
    "sns.kdeplot(df.LOS)\n"
   ]
  },
  {
   "cell_type": "markdown",
   "id": "f9e53f95",
   "metadata": {},
   "source": [
    "ToDo : Create a baseline model that predict LOS column, i also would recommend to process data first. That will gives us more knowledge about the data set to apply Explainable AI techniques\n"
   ]
  },
  {
   "cell_type": "code",
   "execution_count": null,
   "id": "232859bc",
   "metadata": {},
   "outputs": [],
   "source": []
  }
 ],
 "metadata": {
  "kernelspec": {
   "display_name": "Python 3 (ipykernel)",
   "language": "python",
   "name": "python3"
  },
  "language_info": {
   "codemirror_mode": {
    "name": "ipython",
    "version": 3
   },
   "file_extension": ".py",
   "mimetype": "text/x-python",
   "name": "python",
   "nbconvert_exporter": "python",
   "pygments_lexer": "ipython3",
   "version": "3.8.5"
  }
 },
 "nbformat": 4,
 "nbformat_minor": 5
}
